{
  "nbformat": 4,
  "nbformat_minor": 0,
  "metadata": {
    "colab": {
      "provenance": []
    },
    "kernelspec": {
      "name": "python3",
      "display_name": "Python 3"
    },
    "language_info": {
      "name": "python"
    }
  },
  "cells": [
    {
      "cell_type": "code",
      "execution_count": 2,
      "metadata": {
        "colab": {
          "base_uri": "https://localhost:8080/",
          "height": 174
        },
        "id": "xaANh8-Tw6Jb",
        "outputId": "c3d96839-2b0f-405b-b366-33aeec9a2e5d"
      },
      "outputs": [
        {
          "output_type": "execute_result",
          "data": {
            "text/plain": [
              "'\\nThe F-distribution is asymmetric and skewed to the right. It is defined only for non-negative values since variances cannot be negative.\\n\\nIt is determined by two sets of degrees of freedom: 𝑑1(numerator degrees of freedom) and d2(denominator degrees of freedom).\\n\\nThe shape of the F-distribution changes with different degrees of freedom; as d1 and 𝑑2 increase, the distribution becomes more symmetric and resembles the normal distribution.\\n\\nThe F-distribution has a mean greater than 1, especially for smaller degrees of freedom, and it approaches 1 as the degrees of freedom increase.\\n\\nIt is often used in hypothesis testing when comparing variances or assessing model fit in the context of regression or ANOVA.\\n\\n'"
            ],
            "application/vnd.google.colaboratory.intrinsic+json": {
              "type": "string"
            }
          },
          "metadata": {},
          "execution_count": 2
        }
      ],
      "source": [
        "#1) Explain the properties of the F-distribution.\n",
        "\n",
        "'''\n",
        "The F-distribution is asymmetric and skewed to the right. It is defined only for non-negative values since variances cannot be negative.\n",
        "\n",
        "It is determined by two sets of degrees of freedom: 𝑑1(numerator degrees of freedom) and d2(denominator degrees of freedom).\n",
        "\n",
        "The shape of the F-distribution changes with different degrees of freedom; as d1 and 𝑑2 increase, the distribution becomes more symmetric and resembles the normal distribution.\n",
        "\n",
        "The F-distribution has a mean greater than 1, especially for smaller degrees of freedom, and it approaches 1 as the degrees of freedom increase.\n",
        "\n",
        "It is often used in hypothesis testing when comparing variances or assessing model fit in the context of regression or ANOVA.\n",
        "\n",
        "'''"
      ]
    },
    {
      "cell_type": "code",
      "source": [
        "#2)In which types of statistical tests is the F-distribution used, and why is it appropriate for these test\n",
        "\n",
        "'''\n",
        "->ANOVA (Analysis of Variance): The F-distribution is used to determine if there are statistically significant differences between group means. It compares between-group variability to within-group variability.\n",
        "\n",
        "->F-test for equality of variances: The F-test is used to compare the variances of two populations to determine if they are significantly different.\n",
        "\n",
        "->Regression analysis: In multiple regression, the F-test assesses whether the model significantly predicts the outcome variable.\n",
        "The F-distribution is appropriate for these tests because it is based on the ratio of two variances, which is the basis for comparing variability across groups or the significance of model parameters.\n",
        "\n",
        "'''"
      ],
      "metadata": {
        "colab": {
          "base_uri": "https://localhost:8080/",
          "height": 174
        },
        "id": "B9KbLkSxw-r0",
        "outputId": "7f1f863a-1ab2-46cb-bb3f-951996b17973"
      },
      "execution_count": 3,
      "outputs": [
        {
          "output_type": "execute_result",
          "data": {
            "text/plain": [
              "'\\n->ANOVA (Analysis of Variance): The F-distribution is used to determine if there are statistically significant differences between group means. It compares between-group variability to within-group variability.\\n\\n->F-test for equality of variances: The F-test is used to compare the variances of two populations to determine if they are significantly different.\\n\\n->Regression analysis: In multiple regression, the F-test assesses whether the model significantly predicts the outcome variable.\\nThe F-distribution is appropriate for these tests because it is based on the ratio of two variances, which is the basis for comparing variability across groups or the significance of model parameters.\\n\\n'"
            ],
            "application/vnd.google.colaboratory.intrinsic+json": {
              "type": "string"
            }
          },
          "metadata": {},
          "execution_count": 3
        }
      ]
    },
    {
      "cell_type": "code",
      "source": [
        "#3) What are the key assumptions required for conducting an F-test to compare the variances of two populations?\n",
        "\n",
        "'''\n",
        "->Normality: Both populations from which the samples are drawn should follow a normal distribution.\n",
        "->Independence: The samples must be independent of each other.\n",
        "->Random Sampling: Each sample should be randomly selected from the population.\n",
        "->Equal Sample Size: While not strictly necessary, similar sample sizes increase the robustness of the test.\n",
        "'''"
      ],
      "metadata": {
        "colab": {
          "base_uri": "https://localhost:8080/",
          "height": 105
        },
        "id": "m29wh9Sxx209",
        "outputId": "66b8aaa0-5f00-4f0c-920a-6d11db279bb7"
      },
      "execution_count": 4,
      "outputs": [
        {
          "output_type": "execute_result",
          "data": {
            "text/plain": [
              "'\\n->Normality: Both populations from which the samples are drawn should follow a normal distribution.\\n->Independence: The samples must be independent of each other.\\n->Random Sampling: Each sample should be randomly selected from the population.\\n->Equal Sample Size: While not strictly necessary, similar sample sizes increase the robustness of the test.\\n'"
            ],
            "application/vnd.google.colaboratory.intrinsic+json": {
              "type": "string"
            }
          },
          "metadata": {},
          "execution_count": 4
        }
      ]
    },
    {
      "cell_type": "code",
      "source": [
        "#4) What is the purpose of ANOVA, and how does it differ from a t-test?\n",
        "\n",
        "'''\n",
        "ANOVA Purpose: ANOVA is used to determine whether there are significant differences between the means of three or more independent groups. It partitions overall variance into components due to group differences and random error.\n",
        "\n",
        "Difference from t-test: A t-test compares the means of two groups, whereas ANOVA can compare the means of multiple groups simultaneously. ANOVA prevents the increased Type I error rate that would occur if multiple t-tests were conducted.\n",
        "'''"
      ],
      "metadata": {
        "colab": {
          "base_uri": "https://localhost:8080/",
          "height": 122
        },
        "id": "Q-tSn1c8yFYP",
        "outputId": "6870bac7-b6b2-4b6e-a767-f4922ece1939"
      },
      "execution_count": 5,
      "outputs": [
        {
          "output_type": "execute_result",
          "data": {
            "text/plain": [
              "'\\nANOVA Purpose: ANOVA is used to determine whether there are significant differences between the means of three or more independent groups. It partitions overall variance into components due to group differences and random error.\\n\\nDifference from t-test: A t-test compares the means of two groups, whereas ANOVA can compare the means of multiple groups simultaneously. ANOVA prevents the increased Type I error rate that would occur if multiple t-tests were conducted.\\n'"
            ],
            "application/vnd.google.colaboratory.intrinsic+json": {
              "type": "string"
            }
          },
          "metadata": {},
          "execution_count": 5
        }
      ]
    },
    {
      "cell_type": "code",
      "source": [
        "#5) Explain when and why you would use a one-way ANOVA instead of multiple t-tests when comparing more than two groups?\n",
        "\n",
        "'''\n",
        "When comparing more than two groups, conducting multiple t-tests increases the probability of committing a Type I error.\n",
        "One-way ANOVA is more efficient and controls for the Type I error rate,\n",
        "providing a single test for the null hypothesis that all group means are equal.\n",
        "'''"
      ],
      "metadata": {
        "colab": {
          "base_uri": "https://localhost:8080/",
          "height": 88
        },
        "id": "r18kvrBkyMql",
        "outputId": "12456e04-c52c-488b-99ec-dc88e2944993"
      },
      "execution_count": 6,
      "outputs": [
        {
          "output_type": "execute_result",
          "data": {
            "text/plain": [
              "'\\nWhen comparing more than two groups, conducting multiple t-tests increases the probability of committing a Type I error. \\nOne-way ANOVA is more efficient and controls for the Type I error rate, \\nproviding a single test for the null hypothesis that all group means are equal.\\n'"
            ],
            "application/vnd.google.colaboratory.intrinsic+json": {
              "type": "string"
            }
          },
          "metadata": {},
          "execution_count": 6
        }
      ]
    },
    {
      "cell_type": "code",
      "source": [
        "#6) Explain how variance is partitioned in ANOVA into between-group variance and within-group variance. How does this partitioning contribute to the calculation of the F-statistic?\n",
        "\n",
        "'''\n",
        "->In ANOVA, the total variance is divided into between-group variance (variance due to differences between group means) and within-group variance (variance due to individual differences within groups).\n",
        "->The F-statistic is calculated as the ratio of the between-group variance to the within-group variance. A large F-value suggests that the between-group variance is substantially greater than the within-group variance, indicating that there are significant differences between group means.\n",
        "'''"
      ],
      "metadata": {
        "colab": {
          "base_uri": "https://localhost:8080/",
          "height": 140
        },
        "id": "wR61CVnwyZs3",
        "outputId": "2e4bc728-b6aa-4f55-9b75-407adc81c367"
      },
      "execution_count": 7,
      "outputs": [
        {
          "output_type": "execute_result",
          "data": {
            "text/plain": [
              "'\\n->In ANOVA, the total variance is divided into between-group variance (variance due to differences between group means) and within-group variance (variance due to individual differences within groups).\\n->The F-statistic is calculated as the ratio of the between-group variance to the within-group variance. A large F-value suggests that the between-group variance is substantially greater than the within-group variance, indicating that there are significant differences between group means.\\n'"
            ],
            "application/vnd.google.colaboratory.intrinsic+json": {
              "type": "string"
            }
          },
          "metadata": {},
          "execution_count": 7
        }
      ]
    },
    {
      "cell_type": "code",
      "source": [
        "#7) Compare the classical (frequentist) approach to ANOVA with the Bayesian approach. What are the key differences in terms of how they handle uncertainty, parameter estimation, and hypothesis testing?\n",
        "'''\n",
        "-> Frequentist Approach: In classical ANOVA, uncertainty is managed by p-values, and hypothesis testing involves accepting or rejecting the null hypothesis based on significance levels. Estimates are point estimates with confidence intervals.\n",
        "-> Bayesian Approach: Bayesian ANOVA incorporates prior beliefs and provides a probability distribution for parameters, allowing direct probability statements about hypotheses. It accounts for uncertainty through posterior distributions, giving more intuitive interpretations, especially in small-sample or complex data scenarios.\n",
        "'''"
      ],
      "metadata": {
        "colab": {
          "base_uri": "https://localhost:8080/",
          "height": 140
        },
        "id": "FwNB8jVYyojN",
        "outputId": "d331cc9b-34b9-4f2d-bff8-a32afae1b46f"
      },
      "execution_count": 8,
      "outputs": [
        {
          "output_type": "execute_result",
          "data": {
            "text/plain": [
              "'\\n-> Frequentist Approach: In classical ANOVA, uncertainty is managed by p-values, and hypothesis testing involves accepting or rejecting the null hypothesis based on significance levels. Estimates are point estimates with confidence intervals.\\n-> Bayesian Approach: Bayesian ANOVA incorporates prior beliefs and provides a probability distribution for parameters, allowing direct probability statements about hypotheses. It accounts for uncertainty through posterior distributions, giving more intuitive interpretations, especially in small-sample or complex data scenarios.\\n'"
            ],
            "application/vnd.google.colaboratory.intrinsic+json": {
              "type": "string"
            }
          },
          "metadata": {},
          "execution_count": 8
        }
      ]
    },
    {
      "cell_type": "code",
      "source": [
        "#8) Question: You have two sets of data representing the incomes of two different professions1\n",
        "'''\n",
        "V Profession A: [48, 52, 55, 60, 62'\n",
        "V Profession B: [45, 50, 55, 52, 47] Perform an F-test to determine if the variances of the two professions'\n",
        "incomes are equal. What are your conclusions based on the F-test?\n",
        "'''\n",
        "\n",
        "import numpy as np\n",
        "from scipy.stats import f\n",
        "\n",
        "\n",
        "profession_a = np.array([48, 52, 55, 60, 62])\n",
        "profession_b = np.array([45, 50, 55, 52, 47])\n",
        "\n",
        "\n",
        "var_a = np.var(profession_a, ddof=1)\n",
        "var_b = np.var(profession_b, ddof=1)\n",
        "\n",
        "f_stat = var_a / var_b if var_a > var_b else var_b / var_a\n",
        "\n",
        "dof_a = len(profession_a) - 1\n",
        "dof_b = len(profession_b) - 1\n",
        "\n",
        "p_value = 1 - f.cdf(f_stat, dfn=dof_a, dfd=dof_b)\n",
        "\n",
        "f_stat, p_value\n"
      ],
      "metadata": {
        "colab": {
          "base_uri": "https://localhost:8080/"
        },
        "id": "Yv14RXDyy2XQ",
        "outputId": "7ee2d6cb-07a4-462e-8cfe-41ab0d000c8c"
      },
      "execution_count": 9,
      "outputs": [
        {
          "output_type": "execute_result",
          "data": {
            "text/plain": [
              "(2.089171974522293, 0.24652429950266952)"
            ]
          },
          "metadata": {},
          "execution_count": 9
        }
      ]
    },
    {
      "cell_type": "code",
      "source": [
        "#9)  Question: Conduct a one-way ANOVA to test whether there are any statistically significant differences in\n",
        "#average heights between three different regions with the following data1\n",
        "'''\n",
        "V Region A: [160, 162, 165, 158, 164'\n",
        "V Region B: [172, 175, 170, 168, 174'\n",
        "V Region C: [180, 182, 179, 185, 183'\n",
        "V Task: Write Python code to perform the one-way ANOVA and interpret the results\n",
        "V Objective: Learn how to perform one-way ANOVA using Python and interpret F-statistic and p-value.\n",
        "'''\n",
        "\n",
        "from scipy.stats import f_oneway\n",
        "\n",
        "# Heights data\n",
        "region_a = [160, 162, 165, 158, 164]\n",
        "region_b = [172, 175, 170, 168, 174]\n",
        "region_c = [180, 182, 179, 185, 183]\n",
        "\n",
        "# Perform one-way ANOVA\n",
        "f_stat, p_value = f_oneway(region_a, region_b, region_c)\n",
        "\n",
        "f_stat, p_value\n",
        "\n",
        "\n",
        "\n"
      ],
      "metadata": {
        "colab": {
          "base_uri": "https://localhost:8080/"
        },
        "id": "2GbjqeGNzHAJ",
        "outputId": "42f585fb-7e89-4c15-8a25-4cb7e0d6e57e"
      },
      "execution_count": 10,
      "outputs": [
        {
          "output_type": "execute_result",
          "data": {
            "text/plain": [
              "(67.87330316742101, 2.870664187937026e-07)"
            ]
          },
          "metadata": {},
          "execution_count": 10
        }
      ]
    },
    {
      "cell_type": "code",
      "source": [],
      "metadata": {
        "id": "4M5PryofzToa"
      },
      "execution_count": null,
      "outputs": []
    }
  ]
}